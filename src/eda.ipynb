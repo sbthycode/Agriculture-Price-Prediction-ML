{
 "cells": [
  {
   "cell_type": "code",
   "execution_count": 228,
   "metadata": {},
   "outputs": [],
   "source": [
    "## load data from D/ML-5/data/CMO_MSP_Mandi.csv\n",
    "## load data from D/ML-5/data/Monthly_data_cmo.csv\n",
    "\n",
    "import pandas as pd\n",
    "\n",
    "CMO_MSP_Mandi  = pd.read_csv('D:\\ML-5\\data\\CMO_MSP_Mandi.csv')\n",
    "Monthly_data_cmo = pd.read_csv('D:\\ML-5\\data\\Monthly_data_cmo.csv')"
   ]
  },
  {
   "cell_type": "code",
   "execution_count": 229,
   "metadata": {},
   "outputs": [
    {
     "data": {
      "text/html": [
       "<div>\n",
       "<style scoped>\n",
       "    .dataframe tbody tr th:only-of-type {\n",
       "        vertical-align: middle;\n",
       "    }\n",
       "\n",
       "    .dataframe tbody tr th {\n",
       "        vertical-align: top;\n",
       "    }\n",
       "\n",
       "    .dataframe thead th {\n",
       "        text-align: right;\n",
       "    }\n",
       "</style>\n",
       "<table border=\"1\" class=\"dataframe\">\n",
       "  <thead>\n",
       "    <tr style=\"text-align: right;\">\n",
       "      <th></th>\n",
       "      <th>commodity</th>\n",
       "      <th>year</th>\n",
       "      <th>Type</th>\n",
       "      <th>msprice</th>\n",
       "      <th>msp_filter</th>\n",
       "    </tr>\n",
       "  </thead>\n",
       "  <tbody>\n",
       "    <tr>\n",
       "      <th>0</th>\n",
       "      <td>PADDY-UNHUSKED</td>\n",
       "      <td>2012</td>\n",
       "      <td>Kharif Crops</td>\n",
       "      <td>1250.0</td>\n",
       "      <td>1</td>\n",
       "    </tr>\n",
       "    <tr>\n",
       "      <th>1</th>\n",
       "      <td>RICE(PADDY-HUS)</td>\n",
       "      <td>2012</td>\n",
       "      <td>Kharif Crops</td>\n",
       "      <td>1280.0</td>\n",
       "      <td>1</td>\n",
       "    </tr>\n",
       "    <tr>\n",
       "      <th>2</th>\n",
       "      <td>Jowar_Hybrid</td>\n",
       "      <td>2012</td>\n",
       "      <td>Kharif Crops</td>\n",
       "      <td>1500.0</td>\n",
       "      <td>1</td>\n",
       "    </tr>\n",
       "    <tr>\n",
       "      <th>3</th>\n",
       "      <td>SORGUM(JAWAR)</td>\n",
       "      <td>2012</td>\n",
       "      <td>Kharif Crops</td>\n",
       "      <td>1520.0</td>\n",
       "      <td>1</td>\n",
       "    </tr>\n",
       "    <tr>\n",
       "      <th>4</th>\n",
       "      <td>BAJRI</td>\n",
       "      <td>2012</td>\n",
       "      <td>Kharif Crops</td>\n",
       "      <td>1175.0</td>\n",
       "      <td>1</td>\n",
       "    </tr>\n",
       "  </tbody>\n",
       "</table>\n",
       "</div>"
      ],
      "text/plain": [
       "         commodity  year          Type  msprice  msp_filter\n",
       "0   PADDY-UNHUSKED  2012  Kharif Crops   1250.0           1\n",
       "1  RICE(PADDY-HUS)  2012  Kharif Crops   1280.0           1\n",
       "2     Jowar_Hybrid  2012  Kharif Crops   1500.0           1\n",
       "3    SORGUM(JAWAR)  2012  Kharif Crops   1520.0           1\n",
       "4            BAJRI  2012  Kharif Crops   1175.0           1"
      ]
     },
     "execution_count": 229,
     "metadata": {},
     "output_type": "execute_result"
    }
   ],
   "source": [
    "# Show the first 5 rows of CMO_MSP_Mandi\n",
    "\n",
    "CMO_MSP_Mandi.head()"
   ]
  },
  {
   "cell_type": "code",
   "execution_count": 230,
   "metadata": {},
   "outputs": [
    {
     "data": {
      "text/html": [
       "<div>\n",
       "<style scoped>\n",
       "    .dataframe tbody tr th:only-of-type {\n",
       "        vertical-align: middle;\n",
       "    }\n",
       "\n",
       "    .dataframe tbody tr th {\n",
       "        vertical-align: top;\n",
       "    }\n",
       "\n",
       "    .dataframe thead th {\n",
       "        text-align: right;\n",
       "    }\n",
       "</style>\n",
       "<table border=\"1\" class=\"dataframe\">\n",
       "  <thead>\n",
       "    <tr style=\"text-align: right;\">\n",
       "      <th></th>\n",
       "      <th>APMC</th>\n",
       "      <th>Commodity</th>\n",
       "      <th>Year</th>\n",
       "      <th>Month</th>\n",
       "      <th>arrivals_in_qtl</th>\n",
       "      <th>min_price</th>\n",
       "      <th>max_price</th>\n",
       "      <th>modal_price</th>\n",
       "      <th>date</th>\n",
       "      <th>district_name</th>\n",
       "      <th>state_name</th>\n",
       "    </tr>\n",
       "  </thead>\n",
       "  <tbody>\n",
       "    <tr>\n",
       "      <th>0</th>\n",
       "      <td>Ahmednagar</td>\n",
       "      <td>Bajri</td>\n",
       "      <td>2015</td>\n",
       "      <td>April</td>\n",
       "      <td>79</td>\n",
       "      <td>1406</td>\n",
       "      <td>1538</td>\n",
       "      <td>1463</td>\n",
       "      <td>2015-04</td>\n",
       "      <td>Ahmadnagar</td>\n",
       "      <td>Maharashtra</td>\n",
       "    </tr>\n",
       "    <tr>\n",
       "      <th>1</th>\n",
       "      <td>Ahmednagar</td>\n",
       "      <td>Bajri</td>\n",
       "      <td>2016</td>\n",
       "      <td>April</td>\n",
       "      <td>106</td>\n",
       "      <td>1788</td>\n",
       "      <td>1925</td>\n",
       "      <td>1875</td>\n",
       "      <td>2016-04</td>\n",
       "      <td>Ahmadnagar</td>\n",
       "      <td>Maharashtra</td>\n",
       "    </tr>\n",
       "    <tr>\n",
       "      <th>2</th>\n",
       "      <td>Ahmednagar</td>\n",
       "      <td>Wheat(Husked)</td>\n",
       "      <td>2015</td>\n",
       "      <td>April</td>\n",
       "      <td>1253</td>\n",
       "      <td>1572</td>\n",
       "      <td>1890</td>\n",
       "      <td>1731</td>\n",
       "      <td>2015-04</td>\n",
       "      <td>Ahmadnagar</td>\n",
       "      <td>Maharashtra</td>\n",
       "    </tr>\n",
       "    <tr>\n",
       "      <th>3</th>\n",
       "      <td>Ahmednagar</td>\n",
       "      <td>Wheat(Husked)</td>\n",
       "      <td>2016</td>\n",
       "      <td>April</td>\n",
       "      <td>387</td>\n",
       "      <td>1750</td>\n",
       "      <td>2220</td>\n",
       "      <td>1999</td>\n",
       "      <td>2016-04</td>\n",
       "      <td>Ahmadnagar</td>\n",
       "      <td>Maharashtra</td>\n",
       "    </tr>\n",
       "    <tr>\n",
       "      <th>4</th>\n",
       "      <td>Ahmednagar</td>\n",
       "      <td>Sorgum(Jawar)</td>\n",
       "      <td>2015</td>\n",
       "      <td>April</td>\n",
       "      <td>3825</td>\n",
       "      <td>1600</td>\n",
       "      <td>2200</td>\n",
       "      <td>1900</td>\n",
       "      <td>2015-04</td>\n",
       "      <td>Ahmadnagar</td>\n",
       "      <td>Maharashtra</td>\n",
       "    </tr>\n",
       "  </tbody>\n",
       "</table>\n",
       "</div>"
      ],
      "text/plain": [
       "         APMC      Commodity  Year  Month  arrivals_in_qtl  min_price  \\\n",
       "0  Ahmednagar          Bajri  2015  April               79       1406   \n",
       "1  Ahmednagar          Bajri  2016  April              106       1788   \n",
       "2  Ahmednagar  Wheat(Husked)  2015  April             1253       1572   \n",
       "3  Ahmednagar  Wheat(Husked)  2016  April              387       1750   \n",
       "4  Ahmednagar  Sorgum(Jawar)  2015  April             3825       1600   \n",
       "\n",
       "   max_price  modal_price     date district_name   state_name  \n",
       "0       1538         1463  2015-04    Ahmadnagar  Maharashtra  \n",
       "1       1925         1875  2016-04    Ahmadnagar  Maharashtra  \n",
       "2       1890         1731  2015-04    Ahmadnagar  Maharashtra  \n",
       "3       2220         1999  2016-04    Ahmadnagar  Maharashtra  \n",
       "4       2200         1900  2015-04    Ahmadnagar  Maharashtra  "
      ]
     },
     "execution_count": 230,
     "metadata": {},
     "output_type": "execute_result"
    }
   ],
   "source": [
    "# Show the first 5 rows of Monthly_data_cmo\n",
    "\n",
    "Monthly_data_cmo.head()"
   ]
  },
  {
   "cell_type": "code",
   "execution_count": 231,
   "metadata": {},
   "outputs": [],
   "source": [
    "## Remove the rows from Mothly_data_cmo which with null values or NaN values\n",
    "\n",
    "Monthly_data_cmo = Monthly_data_cmo.dropna()\n"
   ]
  },
  {
   "cell_type": "code",
   "execution_count": 232,
   "metadata": {},
   "outputs": [
    {
     "name": "stdout",
     "output_type": "stream",
     "text": [
      "There are 32 distinct commodities in CMO_MSP_Mandi\n"
     ]
    },
    {
     "data": {
      "text/plain": [
       "commodity     32\n",
       "year           5\n",
       "Type           3\n",
       "msprice       97\n",
       "msp_filter     1\n",
       "dtype: int64"
      ]
     },
     "execution_count": 232,
     "metadata": {},
     "output_type": "execute_result"
    }
   ],
   "source": [
    "## Count the distinct commodities in CMO_MSP_Mandi\n",
    "\n",
    "print(\"There are \"+str(CMO_MSP_Mandi['commodity'].nunique())+\" distinct commodities in CMO_MSP_Mandi\") \n",
    "\n",
    "CMO_MSP_Mandi.nunique()"
   ]
  },
  {
   "cell_type": "code",
   "execution_count": 233,
   "metadata": {},
   "outputs": [
    {
     "name": "stdout",
     "output_type": "stream",
     "text": [
      "APMC                 349\n",
      "Commodity            352\n",
      "Year                   3\n",
      "Month                 12\n",
      "arrivals_in_qtl    11169\n",
      "min_price           8503\n",
      "max_price           9739\n",
      "modal_price         9327\n",
      "date                  27\n",
      "district_name         33\n",
      "state_name             1\n",
      "dtype: int64\n",
      "Inference \n"
     ]
    }
   ],
   "source": [
    "## Count the unique values in all columns of Monthly_data_cmo\n",
    "\n",
    "print(Monthly_data_cmo.nunique())\n",
    "print(\"Inference \")"
   ]
  },
  {
   "cell_type": "code",
   "execution_count": 234,
   "metadata": {},
   "outputs": [],
   "source": [
    "## We can drop the Year and Month column from training data as we have the date column which is relevant for our analysis\n",
    "## We can drop the state_name from training data as it has only one unique value\n",
    "\n",
    "## Drop the Month and Year column from Monthly_data_cmo\n",
    "\n",
    "Monthly_data_cmo.drop(['Month','Year'],axis=1,inplace=True)\n",
    "\n",
    "## Drop the state_name column from Monthly_data_cmo\n",
    "\n",
    "Monthly_data_cmo.drop(['state_name'],axis=1,inplace=True)\n",
    "\n"
   ]
  },
  {
   "cell_type": "code",
   "execution_count": 235,
   "metadata": {},
   "outputs": [
    {
     "data": {
      "text/html": [
       "<div>\n",
       "<style scoped>\n",
       "    .dataframe tbody tr th:only-of-type {\n",
       "        vertical-align: middle;\n",
       "    }\n",
       "\n",
       "    .dataframe tbody tr th {\n",
       "        vertical-align: top;\n",
       "    }\n",
       "\n",
       "    .dataframe thead th {\n",
       "        text-align: right;\n",
       "    }\n",
       "</style>\n",
       "<table border=\"1\" class=\"dataframe\">\n",
       "  <thead>\n",
       "    <tr style=\"text-align: right;\">\n",
       "      <th></th>\n",
       "      <th>APMC</th>\n",
       "      <th>Commodity</th>\n",
       "      <th>arrivals_in_qtl</th>\n",
       "      <th>min_price</th>\n",
       "      <th>max_price</th>\n",
       "      <th>modal_price</th>\n",
       "      <th>date</th>\n",
       "      <th>district_name</th>\n",
       "    </tr>\n",
       "  </thead>\n",
       "  <tbody>\n",
       "    <tr>\n",
       "      <th>0</th>\n",
       "      <td>Ahmednagar</td>\n",
       "      <td>Bajri</td>\n",
       "      <td>79</td>\n",
       "      <td>1406</td>\n",
       "      <td>1538</td>\n",
       "      <td>1463</td>\n",
       "      <td>2015-04</td>\n",
       "      <td>Ahmadnagar</td>\n",
       "    </tr>\n",
       "    <tr>\n",
       "      <th>1</th>\n",
       "      <td>Ahmednagar</td>\n",
       "      <td>Bajri</td>\n",
       "      <td>106</td>\n",
       "      <td>1788</td>\n",
       "      <td>1925</td>\n",
       "      <td>1875</td>\n",
       "      <td>2016-04</td>\n",
       "      <td>Ahmadnagar</td>\n",
       "    </tr>\n",
       "    <tr>\n",
       "      <th>2</th>\n",
       "      <td>Ahmednagar</td>\n",
       "      <td>Wheat(Husked)</td>\n",
       "      <td>1253</td>\n",
       "      <td>1572</td>\n",
       "      <td>1890</td>\n",
       "      <td>1731</td>\n",
       "      <td>2015-04</td>\n",
       "      <td>Ahmadnagar</td>\n",
       "    </tr>\n",
       "    <tr>\n",
       "      <th>3</th>\n",
       "      <td>Ahmednagar</td>\n",
       "      <td>Wheat(Husked)</td>\n",
       "      <td>387</td>\n",
       "      <td>1750</td>\n",
       "      <td>2220</td>\n",
       "      <td>1999</td>\n",
       "      <td>2016-04</td>\n",
       "      <td>Ahmadnagar</td>\n",
       "    </tr>\n",
       "    <tr>\n",
       "      <th>4</th>\n",
       "      <td>Ahmednagar</td>\n",
       "      <td>Sorgum(Jawar)</td>\n",
       "      <td>3825</td>\n",
       "      <td>1600</td>\n",
       "      <td>2200</td>\n",
       "      <td>1900</td>\n",
       "      <td>2015-04</td>\n",
       "      <td>Ahmadnagar</td>\n",
       "    </tr>\n",
       "  </tbody>\n",
       "</table>\n",
       "</div>"
      ],
      "text/plain": [
       "         APMC      Commodity  arrivals_in_qtl  min_price  max_price  \\\n",
       "0  Ahmednagar          Bajri               79       1406       1538   \n",
       "1  Ahmednagar          Bajri              106       1788       1925   \n",
       "2  Ahmednagar  Wheat(Husked)             1253       1572       1890   \n",
       "3  Ahmednagar  Wheat(Husked)              387       1750       2220   \n",
       "4  Ahmednagar  Sorgum(Jawar)             3825       1600       2200   \n",
       "\n",
       "   modal_price     date district_name  \n",
       "0         1463  2015-04    Ahmadnagar  \n",
       "1         1875  2016-04    Ahmadnagar  \n",
       "2         1731  2015-04    Ahmadnagar  \n",
       "3         1999  2016-04    Ahmadnagar  \n",
       "4         1900  2015-04    Ahmadnagar  "
      ]
     },
     "execution_count": 235,
     "metadata": {},
     "output_type": "execute_result"
    }
   ],
   "source": [
    "Monthly_data_cmo.head()"
   ]
  },
  {
   "cell_type": "code",
   "execution_count": 236,
   "metadata": {},
   "outputs": [
    {
     "name": "stdout",
     "output_type": "stream",
     "text": [
      "APMC        Commodity       \n",
      "Aamgaon     PADDY-UNHUSKED      1419.000000\n",
      "            Paddy-Unhusked      1555.153846\n",
      "Aarni       Black Gram          6988.333333\n",
      "            Gram                3943.769231\n",
      "            Green Gram          6412.666667\n",
      "                                   ...     \n",
      "Zarijamini  Pigeon Pea (Tur)    6646.000000\n",
      "            SOYBEAN             2601.000000\n",
      "            Sorgum(Jawar)       1424.000000\n",
      "            Soybean             3089.846154\n",
      "            Wheat(Husked)       1500.000000\n",
      "Name: modal_price, Length: 7452, dtype: float64\n",
      "Thus we can see that the average modal price for each commodity in each market is different\n",
      "This indicates that our prediction should take the commodity and the APMC region into consideration\n"
     ]
    }
   ],
   "source": [
    "## Get the average modal price for each commodity in each market\n",
    "\n",
    "print(Monthly_data_cmo.groupby(['APMC','Commodity'])['modal_price'].mean())\n",
    "\n",
    "print(\"Thus we can see that the average modal price for each commodity in each market is different\")\n",
    "print(\"This indicates that our prediction should take the commodity and the APMC region into consideration\")"
   ]
  },
  {
   "cell_type": "code",
   "execution_count": 237,
   "metadata": {},
   "outputs": [
    {
     "data": {
      "text/html": [
       "<div>\n",
       "<style scoped>\n",
       "    .dataframe tbody tr th:only-of-type {\n",
       "        vertical-align: middle;\n",
       "    }\n",
       "\n",
       "    .dataframe tbody tr th {\n",
       "        vertical-align: top;\n",
       "    }\n",
       "\n",
       "    .dataframe thead th {\n",
       "        text-align: right;\n",
       "    }\n",
       "</style>\n",
       "<table border=\"1\" class=\"dataframe\">\n",
       "  <thead>\n",
       "    <tr style=\"text-align: right;\">\n",
       "      <th></th>\n",
       "      <th>APMC</th>\n",
       "      <th>Commodity</th>\n",
       "      <th>arrivals_in_qtl</th>\n",
       "      <th>min_price</th>\n",
       "      <th>max_price</th>\n",
       "      <th>modal_price</th>\n",
       "      <th>date</th>\n",
       "    </tr>\n",
       "  </thead>\n",
       "  <tbody>\n",
       "    <tr>\n",
       "      <th>0</th>\n",
       "      <td>Ahmednagar</td>\n",
       "      <td>Bajri</td>\n",
       "      <td>79</td>\n",
       "      <td>1406</td>\n",
       "      <td>1538</td>\n",
       "      <td>1463</td>\n",
       "      <td>2015-04</td>\n",
       "    </tr>\n",
       "    <tr>\n",
       "      <th>1</th>\n",
       "      <td>Ahmednagar</td>\n",
       "      <td>Bajri</td>\n",
       "      <td>106</td>\n",
       "      <td>1788</td>\n",
       "      <td>1925</td>\n",
       "      <td>1875</td>\n",
       "      <td>2016-04</td>\n",
       "    </tr>\n",
       "    <tr>\n",
       "      <th>2</th>\n",
       "      <td>Ahmednagar</td>\n",
       "      <td>Wheat(Husked)</td>\n",
       "      <td>1253</td>\n",
       "      <td>1572</td>\n",
       "      <td>1890</td>\n",
       "      <td>1731</td>\n",
       "      <td>2015-04</td>\n",
       "    </tr>\n",
       "    <tr>\n",
       "      <th>3</th>\n",
       "      <td>Ahmednagar</td>\n",
       "      <td>Wheat(Husked)</td>\n",
       "      <td>387</td>\n",
       "      <td>1750</td>\n",
       "      <td>2220</td>\n",
       "      <td>1999</td>\n",
       "      <td>2016-04</td>\n",
       "    </tr>\n",
       "    <tr>\n",
       "      <th>4</th>\n",
       "      <td>Ahmednagar</td>\n",
       "      <td>Sorgum(Jawar)</td>\n",
       "      <td>3825</td>\n",
       "      <td>1600</td>\n",
       "      <td>2200</td>\n",
       "      <td>1900</td>\n",
       "      <td>2015-04</td>\n",
       "    </tr>\n",
       "  </tbody>\n",
       "</table>\n",
       "</div>"
      ],
      "text/plain": [
       "         APMC      Commodity  arrivals_in_qtl  min_price  max_price  \\\n",
       "0  Ahmednagar          Bajri               79       1406       1538   \n",
       "1  Ahmednagar          Bajri              106       1788       1925   \n",
       "2  Ahmednagar  Wheat(Husked)             1253       1572       1890   \n",
       "3  Ahmednagar  Wheat(Husked)              387       1750       2220   \n",
       "4  Ahmednagar  Sorgum(Jawar)             3825       1600       2200   \n",
       "\n",
       "   modal_price     date  \n",
       "0         1463  2015-04  \n",
       "1         1875  2016-04  \n",
       "2         1731  2015-04  \n",
       "3         1999  2016-04  \n",
       "4         1900  2015-04  "
      ]
     },
     "execution_count": 237,
     "metadata": {},
     "output_type": "execute_result"
    }
   ],
   "source": [
    "## Since we have taken the APMC region in consideration, we can drop the district_name column from Monthly_data_cmo\n",
    "\n",
    "Monthly_data_cmo.drop(['district_name'],axis=1,inplace=True)\n",
    "Monthly_data_cmo.head()"
   ]
  },
  {
   "cell_type": "code",
   "execution_count": 238,
   "metadata": {},
   "outputs": [
    {
     "data": {
      "text/plain": [
       "<matplotlib.collections.PathCollection at 0x2a72b218100>"
      ]
     },
     "execution_count": 238,
     "metadata": {},
     "output_type": "execute_result"
    },
    {
     "data": {
      "image/png": "[encoded data removed]",
      "text/plain": [
       "<Figure size 432x288 with 1 Axes>"
      ]
     },
     "metadata": {
      "needs_background": "light"
     },
     "output_type": "display_data"
    }
   ],
   "source": [
    "# Plot for arrival_in_qtl to modal_price for Bajri Commodity \n",
    "\n",
    "import matplotlib.pyplot as plt\n",
    "\n",
    "plt.scatter(Monthly_data_cmo[Monthly_data_cmo['Commodity']=='Wheat(Husked)']['arrivals_in_qtl'],Monthly_data_cmo[Monthly_data_cmo['Commodity']=='Wheat(Husked)']['modal_price'])"
   ]
  },
  {
   "cell_type": "code",
   "execution_count": 239,
   "metadata": {},
   "outputs": [
    {
     "data": {
      "text/plain": [
       "Text(0.5, 0, 'date')"
      ]
     },
     "execution_count": 239,
     "metadata": {},
     "output_type": "execute_result"
    },
    {
     "data": {
      "image/png": "[encoded data removed]",
      "text/plain": [
       "<Figure size 432x288 with 1 Axes>"
      ]
     },
     "metadata": {
      "needs_background": "light"
     },
     "output_type": "display_data"
    }
   ],
   "source": [
    "plt.plot(Monthly_data_cmo[Monthly_data_cmo['Commodity']=='Wheat(Husked)']['date'],Monthly_data_cmo[Monthly_data_cmo['Commodity']=='Wheat(Husked)']['modal_price'])\n",
    "\n",
    "## Change y axis label\n",
    "plt.ylabel('modal_price')\n",
    "## Change x axis label\n",
    "plt.xlabel('date')"
   ]
  },
  {
   "cell_type": "code",
   "execution_count": 240,
   "metadata": {},
   "outputs": [
    {
     "name": "stderr",
     "output_type": "stream",
     "text": [
      "<ipython-input-240-3810b43103e8>:15: UserWarning: Boolean Series key will be reindexed to match DataFrame index.\n",
      "  Monthly_data_cmo = Monthly_data_cmo[Monthly_data_cmo['z_score']<4][Monthly_data_cmo['z_score']>-4]\n",
      "<ipython-input-240-3810b43103e8>:24: UserWarning: Boolean Series key will be reindexed to match DataFrame index.\n",
      "  Monthly_data_cmo = Monthly_data_cmo[Monthly_data_cmo['z_score']<4][Monthly_data_cmo['z_score']>-4]\n"
     ]
    }
   ],
   "source": [
    "## In the graph above we see a large number of outliers\n",
    "## We can remove the outliers by using the z-score method\n",
    "\n",
    "from scipy import stats\n",
    "\n",
    "## We need to remove outlier for each commodity separately\n",
    "\n",
    "## We calculate the z_score for each commodity\n",
    "\n",
    "for commodity in Monthly_data_cmo['Commodity'].unique():\n",
    "    Monthly_data_cmo.loc[Monthly_data_cmo['Commodity']==commodity,'z_score'] = stats.zscore(Monthly_data_cmo[Monthly_data_cmo['Commodity']==commodity]['modal_price'])\n",
    "\n",
    "    ## We remove the rows with z_score greater than or equal to absolute value of 4\n",
    "\n",
    "Monthly_data_cmo = Monthly_data_cmo[Monthly_data_cmo['z_score']<4][Monthly_data_cmo['z_score']>-4]\n",
    "\n",
    "## We repeat the same for arrival in qtl\n",
    "\n",
    "for commodity in Monthly_data_cmo['Commodity'].unique():\n",
    "    Monthly_data_cmo.loc[Monthly_data_cmo['Commodity']==commodity,'z_score'] = stats.zscore(Monthly_data_cmo[Monthly_data_cmo['Commodity']==commodity]['arrivals_in_qtl'])\n",
    "\n",
    "    ## We remove the rows with z_score greater than or equal to absolute value of 4\n",
    "\n",
    "Monthly_data_cmo = Monthly_data_cmo[Monthly_data_cmo['z_score']<4][Monthly_data_cmo['z_score']>-4]\n",
    "\n",
    "\n",
    "\n",
    "\n",
    "\n",
    "# Monthly_data_cmo['z_score'] = stats.zscore(Monthly_data_cmo['modal_price'])\n",
    "# Monthly_data_cmo.head()\n",
    "\n",
    "# ## We remove the rows with z_score greater than 0.2\n",
    "\n",
    "# Monthly_data_cmo = Monthly_data_cmo[Monthly_data_cmo['z_score']<0.2]\n",
    "# Monthly_data_cmo.drop(['z_score'],axis=1,inplace=True)\n",
    "\n",
    "# ## Similarly we can remove the outliers from arrivals_in_qtl\n",
    "\n",
    "# Monthly_data_cmo['z_score'] = stats.zscore(Monthly_data_cmo['arrivals_in_qtl'])\n",
    "\n",
    "# ## We remove the rows with z_score greater than 1\n",
    "\n",
    "# Monthly_data_cmo = Monthly_data_cmo[Monthly_data_cmo['z_score']<1]\n",
    "# Monthly_data_cmo.drop(['z_score'],axis=1,inplace=True)\n"
   ]
  },
  {
   "cell_type": "code",
   "execution_count": 241,
   "metadata": {},
   "outputs": [
    {
     "data": {
      "text/plain": [
       "<matplotlib.collections.PathCollection at 0x2a73331c580>"
      ]
     },
     "execution_count": 241,
     "metadata": {},
     "output_type": "execute_result"
    },
    {
     "data": {
      "image/png": "[encoded data removed]",
      "text/plain": [
       "<Figure size 432x288 with 1 Axes>"
      ]
     },
     "metadata": {
      "needs_background": "light"
     },
     "output_type": "display_data"
    }
   ],
   "source": [
    "import matplotlib.pyplot as plt\n",
    "\n",
    "plt.scatter(Monthly_data_cmo[Monthly_data_cmo['Commodity']=='Wheat(Husked)']['arrivals_in_qtl'],Monthly_data_cmo[Monthly_data_cmo['Commodity']=='Wheat(Husked)']['modal_price'])"
   ]
  },
  {
   "cell_type": "code",
   "execution_count": 242,
   "metadata": {},
   "outputs": [
    {
     "data": {
      "text/html": [
       "<div>\n",
       "<style scoped>\n",
       "    .dataframe tbody tr th:only-of-type {\n",
       "        vertical-align: middle;\n",
       "    }\n",
       "\n",
       "    .dataframe tbody tr th {\n",
       "        vertical-align: top;\n",
       "    }\n",
       "\n",
       "    .dataframe thead th {\n",
       "        text-align: right;\n",
       "    }\n",
       "</style>\n",
       "<table border=\"1\" class=\"dataframe\">\n",
       "  <thead>\n",
       "    <tr style=\"text-align: right;\">\n",
       "      <th></th>\n",
       "      <th>APMC</th>\n",
       "      <th>Commodity</th>\n",
       "      <th>arrivals_in_qtl</th>\n",
       "      <th>min_price</th>\n",
       "      <th>max_price</th>\n",
       "      <th>modal_price</th>\n",
       "      <th>date</th>\n",
       "      <th>z_score</th>\n",
       "    </tr>\n",
       "  </thead>\n",
       "  <tbody>\n",
       "    <tr>\n",
       "      <th>0</th>\n",
       "      <td>Ahmednagar</td>\n",
       "      <td>Bajri</td>\n",
       "      <td>79</td>\n",
       "      <td>1406</td>\n",
       "      <td>1538</td>\n",
       "      <td>1463</td>\n",
       "      <td>2015-04</td>\n",
       "      <td>-0.396570</td>\n",
       "    </tr>\n",
       "    <tr>\n",
       "      <th>1</th>\n",
       "      <td>Ahmednagar</td>\n",
       "      <td>Bajri</td>\n",
       "      <td>106</td>\n",
       "      <td>1788</td>\n",
       "      <td>1925</td>\n",
       "      <td>1875</td>\n",
       "      <td>2016-04</td>\n",
       "      <td>-0.377686</td>\n",
       "    </tr>\n",
       "    <tr>\n",
       "      <th>2</th>\n",
       "      <td>Ahmednagar</td>\n",
       "      <td>Wheat(Husked)</td>\n",
       "      <td>1253</td>\n",
       "      <td>1572</td>\n",
       "      <td>1890</td>\n",
       "      <td>1731</td>\n",
       "      <td>2015-04</td>\n",
       "      <td>-0.063890</td>\n",
       "    </tr>\n",
       "    <tr>\n",
       "      <th>3</th>\n",
       "      <td>Ahmednagar</td>\n",
       "      <td>Wheat(Husked)</td>\n",
       "      <td>387</td>\n",
       "      <td>1750</td>\n",
       "      <td>2220</td>\n",
       "      <td>1999</td>\n",
       "      <td>2016-04</td>\n",
       "      <td>-0.197294</td>\n",
       "    </tr>\n",
       "    <tr>\n",
       "      <th>4</th>\n",
       "      <td>Ahmednagar</td>\n",
       "      <td>Sorgum(Jawar)</td>\n",
       "      <td>3825</td>\n",
       "      <td>1600</td>\n",
       "      <td>2200</td>\n",
       "      <td>1900</td>\n",
       "      <td>2015-04</td>\n",
       "      <td>0.632672</td>\n",
       "    </tr>\n",
       "  </tbody>\n",
       "</table>\n",
       "</div>"
      ],
      "text/plain": [
       "         APMC      Commodity  arrivals_in_qtl  min_price  max_price  \\\n",
       "0  Ahmednagar          Bajri               79       1406       1538   \n",
       "1  Ahmednagar          Bajri              106       1788       1925   \n",
       "2  Ahmednagar  Wheat(Husked)             1253       1572       1890   \n",
       "3  Ahmednagar  Wheat(Husked)              387       1750       2220   \n",
       "4  Ahmednagar  Sorgum(Jawar)             3825       1600       2200   \n",
       "\n",
       "   modal_price     date   z_score  \n",
       "0         1463  2015-04 -0.396570  \n",
       "1         1875  2016-04 -0.377686  \n",
       "2         1731  2015-04 -0.063890  \n",
       "3         1999  2016-04 -0.197294  \n",
       "4         1900  2015-04  0.632672  "
      ]
     },
     "execution_count": 242,
     "metadata": {},
     "output_type": "execute_result"
    }
   ],
   "source": [
    "Monthly_data_cmo.head()"
   ]
  },
  {
   "cell_type": "code",
   "execution_count": 248,
   "metadata": {},
   "outputs": [
    {
     "data": {
      "text/plain": [
       "Text(0.5, 0, 'date')"
      ]
     },
     "execution_count": 248,
     "metadata": {},
     "output_type": "execute_result"
    },
    {
     "data": {
      "image/png": "[encoded data removed]",
      "text/plain": [
       "<Figure size 432x288 with 1 Axes>"
      ]
     },
     "metadata": {
      "needs_background": "light"
     },
     "output_type": "display_data"
    }
   ],
   "source": [
    "## Plot the variation of modal_price of Wheat(Husked) with date\n",
    "\n",
    "plt.plot(Monthly_data_cmo[Monthly_data_cmo['Commodity']=='Wheat(Husked)']['date'],Monthly_data_cmo[Monthly_data_cmo['Commodity']=='Wheat(Husked)']['modal_price'])\n",
    "\n",
    "## Change y axis label\n",
    "plt.ylabel('modal_price')\n",
    "## Change x axis label\n",
    "plt.xlabel('date')"
   ]
  },
  {
   "cell_type": "code",
   "execution_count": 244,
   "metadata": {},
   "outputs": [],
   "source": [
    "## Thus we have loosly filtered the outliers from the data. \n",
    "## We have also identified that the modal price is most importantly dependent on the commodity,\n",
    "## the APMC region and the arrival in quintal "
   ]
  },
  {
   "cell_type": "code",
   "execution_count": 245,
   "metadata": {},
   "outputs": [],
   "source": [
    "Monthly_data_cmo.drop(['z_score'],axis=1,inplace=True)\n",
    "\n",
    "## Now we can save the cleaned data to a csv file\n",
    "\n",
    "Monthly_data_cmo.to_csv('D:\\ML-5\\data\\Cleaned_data.csv',index=False)"
   ]
  },
  {
   "cell_type": "code",
   "execution_count": 246,
   "metadata": {},
   "outputs": [
    {
     "data": {
      "text/html": [
       "<div>\n",
       "<style scoped>\n",
       "    .dataframe tbody tr th:only-of-type {\n",
       "        vertical-align: middle;\n",
       "    }\n",
       "\n",
       "    .dataframe tbody tr th {\n",
       "        vertical-align: top;\n",
       "    }\n",
       "\n",
       "    .dataframe thead th {\n",
       "        text-align: right;\n",
       "    }\n",
       "</style>\n",
       "<table border=\"1\" class=\"dataframe\">\n",
       "  <thead>\n",
       "    <tr style=\"text-align: right;\">\n",
       "      <th></th>\n",
       "      <th>APMC</th>\n",
       "      <th>Commodity</th>\n",
       "      <th>arrivals_in_qtl</th>\n",
       "      <th>min_price</th>\n",
       "      <th>max_price</th>\n",
       "      <th>modal_price</th>\n",
       "      <th>date</th>\n",
       "    </tr>\n",
       "  </thead>\n",
       "  <tbody>\n",
       "    <tr>\n",
       "      <th>0</th>\n",
       "      <td>Ahmednagar</td>\n",
       "      <td>Bajri</td>\n",
       "      <td>79</td>\n",
       "      <td>1406</td>\n",
       "      <td>1538</td>\n",
       "      <td>1463</td>\n",
       "      <td>2015-04</td>\n",
       "    </tr>\n",
       "    <tr>\n",
       "      <th>1</th>\n",
       "      <td>Ahmednagar</td>\n",
       "      <td>Bajri</td>\n",
       "      <td>106</td>\n",
       "      <td>1788</td>\n",
       "      <td>1925</td>\n",
       "      <td>1875</td>\n",
       "      <td>2016-04</td>\n",
       "    </tr>\n",
       "    <tr>\n",
       "      <th>2</th>\n",
       "      <td>Ahmednagar</td>\n",
       "      <td>Wheat(Husked)</td>\n",
       "      <td>1253</td>\n",
       "      <td>1572</td>\n",
       "      <td>1890</td>\n",
       "      <td>1731</td>\n",
       "      <td>2015-04</td>\n",
       "    </tr>\n",
       "    <tr>\n",
       "      <th>3</th>\n",
       "      <td>Ahmednagar</td>\n",
       "      <td>Wheat(Husked)</td>\n",
       "      <td>387</td>\n",
       "      <td>1750</td>\n",
       "      <td>2220</td>\n",
       "      <td>1999</td>\n",
       "      <td>2016-04</td>\n",
       "    </tr>\n",
       "    <tr>\n",
       "      <th>4</th>\n",
       "      <td>Ahmednagar</td>\n",
       "      <td>Sorgum(Jawar)</td>\n",
       "      <td>3825</td>\n",
       "      <td>1600</td>\n",
       "      <td>2200</td>\n",
       "      <td>1900</td>\n",
       "      <td>2015-04</td>\n",
       "    </tr>\n",
       "  </tbody>\n",
       "</table>\n",
       "</div>"
      ],
      "text/plain": [
       "         APMC      Commodity  arrivals_in_qtl  min_price  max_price  \\\n",
       "0  Ahmednagar          Bajri               79       1406       1538   \n",
       "1  Ahmednagar          Bajri              106       1788       1925   \n",
       "2  Ahmednagar  Wheat(Husked)             1253       1572       1890   \n",
       "3  Ahmednagar  Wheat(Husked)              387       1750       2220   \n",
       "4  Ahmednagar  Sorgum(Jawar)             3825       1600       2200   \n",
       "\n",
       "   modal_price     date  \n",
       "0         1463  2015-04  \n",
       "1         1875  2016-04  \n",
       "2         1731  2015-04  \n",
       "3         1999  2016-04  \n",
       "4         1900  2015-04  "
      ]
     },
     "execution_count": 246,
     "metadata": {},
     "output_type": "execute_result"
    }
   ],
   "source": [
    "Monthly_data_cmo.head()"
   ]
  },
  {
   "cell_type": "code",
   "execution_count": null,
   "metadata": {},
   "outputs": [],
   "source": []
  }
 ],
 "metadata": {
  "kernelspec": {
   "display_name": "fastapi",
   "language": "python",
   "name": "python3"
  },
  "language_info": {
   "codemirror_mode": {
    "name": "ipython",
    "version": 3
   },
   "file_extension": ".py",
   "mimetype": "text/x-python",
   "name": "python",
   "nbconvert_exporter": "python",
   "pygments_lexer": "ipython3",
   "version": "3.9.15"
  },
  "orig_nbformat": 4
 },
 "nbformat": 4,
 "nbformat_minor": 2
}
